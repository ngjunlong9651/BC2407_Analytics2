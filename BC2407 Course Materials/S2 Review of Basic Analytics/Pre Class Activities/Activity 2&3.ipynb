{
 "cells": [
  {
   "cell_type": "code",
   "execution_count": 28,
   "metadata": {},
   "outputs": [],
   "source": [
    "## Activity 1 using python\n",
    "\n",
    "## Installing the necessary packages\n",
    "import numpy as np\n",
    "import pandas as pd\n",
    "import matplotlib.pyplot as plt\n",
    "import seaborn as sns\n",
    "from sklearn import linear_model\n",
    "from sklearn.linear_model import LogisticRegression\n",
    "from sklearn.metrics import mean_squared_error, r2_score\n",
    "import math"
   ]
  },
  {
   "cell_type": "code",
   "execution_count": 29,
   "metadata": {},
   "outputs": [
    {
     "data": {
      "text/html": [
       "<div>\n",
       "<style scoped>\n",
       "    .dataframe tbody tr th:only-of-type {\n",
       "        vertical-align: middle;\n",
       "    }\n",
       "\n",
       "    .dataframe tbody tr th {\n",
       "        vertical-align: top;\n",
       "    }\n",
       "\n",
       "    .dataframe thead th {\n",
       "        text-align: right;\n",
       "    }\n",
       "</style>\n",
       "<table border=\"1\" class=\"dataframe\">\n",
       "  <thead>\n",
       "    <tr style=\"text-align: right;\">\n",
       "      <th></th>\n",
       "      <th>Default</th>\n",
       "      <th>Gender</th>\n",
       "      <th>AvgBal</th>\n",
       "      <th>Income</th>\n",
       "    </tr>\n",
       "  </thead>\n",
       "  <tbody>\n",
       "    <tr>\n",
       "      <th>0</th>\n",
       "      <td>No</td>\n",
       "      <td>M</td>\n",
       "      <td>730</td>\n",
       "      <td>44362</td>\n",
       "    </tr>\n",
       "    <tr>\n",
       "      <th>1</th>\n",
       "      <td>No</td>\n",
       "      <td>F</td>\n",
       "      <td>817</td>\n",
       "      <td>12106</td>\n",
       "    </tr>\n",
       "    <tr>\n",
       "      <th>2</th>\n",
       "      <td>No</td>\n",
       "      <td>M</td>\n",
       "      <td>1074</td>\n",
       "      <td>31767</td>\n",
       "    </tr>\n",
       "    <tr>\n",
       "      <th>3</th>\n",
       "      <td>No</td>\n",
       "      <td>M</td>\n",
       "      <td>529</td>\n",
       "      <td>35704</td>\n",
       "    </tr>\n",
       "    <tr>\n",
       "      <th>4</th>\n",
       "      <td>No</td>\n",
       "      <td>M</td>\n",
       "      <td>786</td>\n",
       "      <td>38463</td>\n",
       "    </tr>\n",
       "  </tbody>\n",
       "</table>\n",
       "</div>"
      ],
      "text/plain": [
       "  Default Gender  AvgBal  Income\n",
       "0      No      M     730   44362\n",
       "1      No      F     817   12106\n",
       "2      No      M    1074   31767\n",
       "3      No      M     529   35704\n",
       "4      No      M     786   38463"
      ]
     },
     "execution_count": 29,
     "metadata": {},
     "output_type": "execute_result"
    }
   ],
   "source": [
    "## Importing the datasets\n",
    "\n",
    "df1 = pd.read_csv(\"/Users/junlongng/Desktop/NTU/Year_2/Semester 2/BC2407 Analytics II/BC2407 Course Materials/S2 Review of Basic Analytics/default.csv\",dtype= {'Default':'category', \"Gender\": \"category\"})\n",
    "df1.head()"
   ]
  },
  {
   "cell_type": "code",
   "execution_count": 30,
   "metadata": {},
   "outputs": [
    {
     "name": "stdout",
     "output_type": "stream",
     "text": [
      "<class 'pandas.core.frame.DataFrame'>\n",
      "RangeIndex: 10000 entries, 0 to 9999\n",
      "Data columns (total 4 columns):\n",
      " #   Column   Non-Null Count  Dtype   \n",
      "---  ------   --------------  -----   \n",
      " 0   Default  10000 non-null  category\n",
      " 1   Gender   10000 non-null  category\n",
      " 2   AvgBal   10000 non-null  int64   \n",
      " 3   Income   10000 non-null  int64   \n",
      "dtypes: category(2), int64(2)\n",
      "memory usage: 176.0 KB\n"
     ]
    }
   ],
   "source": [
    "## Checking for NA values\n",
    "df1.info()\n",
    "\n",
    "## This shows us that we need to recode Default & Gender\n",
    "## Refer to first block "
   ]
  },
  {
   "cell_type": "code",
   "execution_count": 31,
   "metadata": {},
   "outputs": [],
   "source": [
    "## python cannot automatically interpret strings as category\n",
    "## so we need to encode the respective categories with the number codes\n",
    "df1.Default = df1.Default.cat.codes\n",
    "df1.Gender = df1.Gender.cat.codes"
   ]
  },
  {
   "cell_type": "code",
   "execution_count": 42,
   "metadata": {},
   "outputs": [
    {
     "data": {
      "text/plain": [
       "array([[9.98162939e-01, 1.83706090e-03],\n",
       "       [9.98234634e-01, 1.76536602e-03],\n",
       "       [9.71003008e-01, 2.89969916e-02],\n",
       "       ...,\n",
       "       [9.98928672e-01, 1.07132824e-03],\n",
       "       [7.91578386e-01, 2.08421614e-01],\n",
       "       [9.99950364e-01, 4.96355118e-05]])"
      ]
     },
     "execution_count": 42,
     "metadata": {},
     "output_type": "execute_result"
    }
   ],
   "source": [
    "x_data = df1[['Gender', 'AvgBal', 'Income']]\n",
    "target_y = df1['Default']\n",
    "log_reg = LogisticRegression()\n",
    "log_reg.fit(x_data, target_y)\n",
    "## Predicting Target Y\n",
    "pred_y = log_reg.predict(x_data)\n",
    "y_prob = log_reg.predict_proba(x_data)\n",
    "y_prob\n",
    "\n"
   ]
  },
  {
   "cell_type": "code",
   "execution_count": null,
   "metadata": {},
   "outputs": [],
   "source": []
  },
  {
   "cell_type": "code",
   "execution_count": null,
   "metadata": {},
   "outputs": [],
   "source": []
  }
 ],
 "metadata": {
  "kernelspec": {
   "display_name": "Python 3",
   "language": "python",
   "name": "python3"
  },
  "language_info": {
   "codemirror_mode": {
    "name": "ipython",
    "version": 3
   },
   "file_extension": ".py",
   "mimetype": "text/x-python",
   "name": "python",
   "nbconvert_exporter": "python",
   "pygments_lexer": "ipython3",
   "version": "3.10.7 (v3.10.7:6cc6b13308, Sep  5 2022, 14:02:52) [Clang 13.0.0 (clang-1300.0.29.30)]"
  },
  "orig_nbformat": 4,
  "vscode": {
   "interpreter": {
    "hash": "aee8b7b246df8f9039afb4144a1f6fd8d2ca17a180786b69acc140d282b71a49"
   }
  }
 },
 "nbformat": 4,
 "nbformat_minor": 2
}
